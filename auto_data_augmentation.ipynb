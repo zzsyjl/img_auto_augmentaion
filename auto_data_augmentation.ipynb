{
 "cells": [
  {
   "cell_type": "code",
   "execution_count": 1,
   "metadata": {},
   "outputs": [],
   "source": [
    "import os\n",
    "import cv2\n",
    "import numpy as np\n",
    "import random\n",
    "import matplotlib.pyplot as plt\n",
    "%matplotlib inline"
   ]
  },
  {
   "cell_type": "code",
   "execution_count": 2,
   "metadata": {},
   "outputs": [],
   "source": [
    "# show the image\n",
    "ori_img = cv2.imread('together.jpg')\n",
    "cv2.imshow('img', ori_img)\n",
    "key = cv2.waitKey()\n",
    "if key == 27:\n",
    "    cv2.destroyAllWindows()"
   ]
  },
  {
   "cell_type": "code",
   "execution_count": 3,
   "metadata": {},
   "outputs": [],
   "source": [
    "# first alternation is to randomly change the color. We can change the value per channel.\n",
    "def change_color_random(img):\n",
    "    random_values = np.random.randint(-50, 50, size=(3,))\n",
    "    color_changed = img + random_values\n",
    "    return np.clip(color_changed, 0, 255).astype('uint8')\n",
    "\n",
    "cv2.imshow('img', change_color_random(ori_img))\n",
    "key = cv2.waitKey()\n",
    "if key == 27:\n",
    "    cv2.destroyAllWindows()"
   ]
  },
  {
   "cell_type": "code",
   "execution_count": 4,
   "metadata": {},
   "outputs": [],
   "source": [
    "# read in grey img\n",
    "grey = cv2.imread('together.jpg', 0)\n",
    "cv2.imshow('img', grey)\n",
    "key = cv2.waitKey()\n",
    "if key == 27:\n",
    "    cv2.destroyAllWindows()"
   ]
  },
  {
   "cell_type": "code",
   "execution_count": 5,
   "metadata": {},
   "outputs": [],
   "source": [
    "# histogram equalization on grey img\n",
    "hist_equled = cv2.equalizeHist(grey)\n",
    "cv2.imshow('img', hist_equled)\n",
    "key = cv2.waitKey()\n",
    "if key == 27:\n",
    "    cv2.destroyAllWindows()"
   ]
  },
  {
   "cell_type": "code",
   "execution_count": 6,
   "metadata": {},
   "outputs": [],
   "source": [
    "# what if we do this on each channel of a colored image?\n",
    "bgr = cv2.split(ori_img)\n",
    "equaled_bgr = [cv2.equalizeHist(ch) for ch in bgr]\n",
    "equled_color_img = cv2.merge(equaled_bgr)\n",
    "cv2.imshow('img', equled_color_img)\n",
    "key = cv2.waitKey()\n",
    "if key == 27:\n",
    "    cv2.destroyAllWindows()"
   ]
  },
  {
   "cell_type": "code",
   "execution_count": 7,
   "metadata": {},
   "outputs": [
    {
     "data": {
      "image/png": "[encoded data removed]",
      "text/plain": [
       "<matplotlib.figure.Figure at 0x1b0bc44b2e8>"
      ]
     },
     "metadata": {},
     "output_type": "display_data"
    }
   ],
   "source": [
    "# show the histogram of a grey img\n",
    "hist,bins = np.histogram(grey.ravel(),256,[0,256]) # note .ravel() is a view of the original data. .flatten() makes a copy \n",
    "plt.plot(hist)\n",
    "plt.show()"
   ]
  },
  {
   "cell_type": "code",
   "execution_count": 8,
   "metadata": {},
   "outputs": [],
   "source": [
    "# gamma correction. Because we want to strech the low value part of the img, i.e. make the dark part brighter\n",
    "\n",
    "def gamma2_correction_img(img):\n",
    "    def gamma2_correction(value):\n",
    "        return np.sqrt(value / 256) * 256\n",
    "    gray = cv2.cvtColor(img, cv2.COLOR_BGR2GRAY)\n",
    "    return gamma2_correction(gray).astype('uint8')\n",
    "\n",
    "cv2.imshow('img', gamma2_correction_img(ori_img))\n",
    "key = cv2.waitKey()\n",
    "if key == 27:\n",
    "    cv2.destroyAllWindows()"
   ]
  },
  {
   "cell_type": "code",
   "execution_count": 9,
   "metadata": {},
   "outputs": [],
   "source": [
    "# affine translation\n",
    "translation = np.float32([[0.5, -0.86, 100], [0.86, 0.5, 100.5]]) # the affine matrix with shape (2, 3) and type float\n",
    "rows, cols = ori_img.shape[0], ori_img.shape[1]\n",
    "transed = cv2.warpAffine(ori_img, translation, (cols, rows)) # mind the third arg\n",
    "\n",
    "cv2.imshow('img', transed)\n",
    "key = cv2.waitKey()\n",
    "if key == 27:\n",
    "    cv2.destroyAllWindows()"
   ]
  },
  {
   "cell_type": "code",
   "execution_count": 10,
   "metadata": {},
   "outputs": [],
   "source": [
    "# getRotaionMatrix\n",
    "rows, cols = ori_img.shape[0], ori_img.shape[1]\n",
    "rotMtrx = cv2.getRotationMatrix2D((0, 0), 0, 1) # third arg is scale, so you scale using rotate function, it is a bit weird\n",
    "\n",
    "roted = cv2.warpAffine(ori_img, rotMtrx, (cols, rows))\n",
    "\n",
    "cv2.imshow('img', roted)\n",
    "key = cv2.waitKey()\n",
    "if key == 27:\n",
    "    cv2.destroyAllWindows()"
   ]
  },
  {
   "cell_type": "code",
   "execution_count": 11,
   "metadata": {},
   "outputs": [],
   "source": [
    "# random rotation, scaling and translation combined for augmentation\n",
    "def random_affine(img, angle=30, scale=0.3, translation_ratio=0.2):\n",
    "    # use Gauss distribution, each parameter is the standard deviation\n",
    "    rows, cols, chnls = img.shape\n",
    "    angle = np.random.randn() * angle\n",
    "    scale = np.exp(np.random.randn()*scale)\n",
    "    trans_rows = rows * np.random.randn() * translation_ratio\n",
    "    trans_cols = cols * np.random.randn() * translation_ratio\n",
    "    trans_mtrx = np.float32([[0, 0, trans_cols], [0, 0, trans_rows]])\n",
    "    cmbined_mtrx = cv2.getRotationMatrix2D((cols/2, rows/2), angle, scale) + trans_mtrx\n",
    "    return cv2.warpAffine(img, cmbined_mtrx, (cols, rows))\n",
    "\n",
    "cv2.imshow('img', random_affine(ori_img))\n",
    "key = cv2.waitKey()\n",
    "if key == 27:\n",
    "    cv2.destroyAllWindows()"
   ]
  },
  {
   "cell_type": "markdown",
   "metadata": {},
   "source": [
    "The basic operations are listed above. We want to have a function, that get a directory path of images and create another directory of augemented images. Now we have 3 functions, and "
   ]
  },
  {
   "cell_type": "code",
   "execution_count": 12,
   "metadata": {},
   "outputs": [],
   "source": [
    "def augmentation(path):\n",
    "    path, _ = os.path.split(path)\n",
    "    new_path = path + '_augment'\n",
    "    if not os.path.isdir(new_path):\n",
    "        os.mkdir(new_path)\n",
    "    img_list = os.listdir(path)\n",
    "    print(img_list)\n",
    "    for i in img_list:\n",
    "        if not i.endswith('.jpg'):\n",
    "            continue\n",
    "        name, ext = os.path.splitext(i)\n",
    "        print(path+i)\n",
    "        img = cv2.imread(path+'/'+i)\n",
    "        cv2.imwrite(new_path+'/'+name+'_color'+ext, change_color_random(img))\n",
    "        cv2.imwrite(new_path+'/'+name+'_gamma'+ext, gamma2_correction_img(img))\n",
    "        cv2.imwrite(new_path+'/'+name+'_affine'+ext, random_affine(img))\n",
    "        "
   ]
  },
  {
   "cell_type": "code",
   "execution_count": 13,
   "metadata": {},
   "outputs": [
    {
     "name": "stdout",
     "output_type": "stream",
     "text": [
      "['.ipynb_checkpoints', 'together.jpg']\n",
      "./img_foldertogether.jpg\n"
     ]
    }
   ],
   "source": [
    "augmentation('./img_folder/')"
   ]
  }
 ],
 "metadata": {
  "kernelspec": {
   "display_name": "Python 3",
   "language": "python",
   "name": "python3"
  },
  "language_info": {
   "codemirror_mode": {
    "name": "ipython",
    "version": 3
   },
   "file_extension": ".py",
   "mimetype": "text/x-python",
   "name": "python",
   "nbconvert_exporter": "python",
   "pygments_lexer": "ipython3",
   "version": "3.6.4"
  }
 },
 "nbformat": 4,
 "nbformat_minor": 2
}
