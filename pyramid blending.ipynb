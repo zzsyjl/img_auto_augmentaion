{
 "cells": [
  {
   "cell_type": "code",
   "execution_count": 1,
   "metadata": {},
   "outputs": [],
   "source": [
    "import cv2\n",
    "import numpy as np\n",
    "import time"
   ]
  },
  {
   "cell_type": "code",
   "execution_count": 2,
   "metadata": {},
   "outputs": [],
   "source": [
    "apple = cv2.imread('apple.png')\n",
    "orange = cv2.imread('orange.png')\n",
    "# cv2.imshow('apple', apple)\n",
    "# cv2.imshow('orange', orange)\n",
    "# key = cv2.waitKey()\n",
    "# if key == 27:\n",
    "#     cv2.destroyAllWindows()"
   ]
  },
  {
   "cell_type": "code",
   "execution_count": 3,
   "metadata": {},
   "outputs": [
    {
     "name": "stdout",
     "output_type": "stream",
     "text": [
      "(567, 390, 3) (605, 468, 3)\n"
     ]
    }
   ],
   "source": [
    "yjl = cv2.imread('official_photo.jpg')\n",
    "yy = cv2.imread('yy_official.jpg')\n",
    "print(yjl.shape, yy.shape)\n",
    "# cv2.imshow('apple', yjl)\n",
    "# cv2.imshow('orange', yy)\n",
    "# key = cv2.waitKey()\n",
    "# if key == 27:\n",
    "#     cv2.destroyAllWindows()"
   ]
  },
  {
   "cell_type": "code",
   "execution_count": 4,
   "metadata": {},
   "outputs": [],
   "source": [
    "# resize the longer side to a given length and zero pad to square\n",
    "def resize2square(img, length=512):\n",
    "    outcome = img.copy()\n",
    "    rows, cols, chnls = img.shape\n",
    "    longer_length = max(rows, cols)\n",
    "    new_rows = int(rows * length / longer_length)\n",
    "    new_cols = int(cols * length / longer_length)\n",
    "    outcome = cv2.resize(outcome, (new_cols, new_rows))\n",
    "    diff_rows = length - new_rows\n",
    "    diff_cols = length - new_cols\n",
    "    top, bottom = diff_rows // 2 , diff_rows-(diff_rows // 2)\n",
    "    left, right = diff_cols//2, diff_cols-(diff_cols//2)\n",
    "    # print(top, bottom, left, right)\n",
    "    outcome = cv2.copyMakeBorder(outcome, top, bottom, left, right, cv2.BORDER_CONSTANT)\n",
    "    return outcome\n",
    "    "
   ]
  },
  {
   "cell_type": "code",
   "execution_count": 5,
   "metadata": {},
   "outputs": [],
   "source": [
    "def pyramid_blending(apple, orange, n): # how many layers of pyramid we want? n layers\n",
    "    apple_copy = resize2square(apple.copy())\n",
    "    assert 2**(n-1) <= apple_copy.shape[0] # to rule out unexpected situation, make sure the last img is >= 1 pixel\n",
    "    orange_copy = resize2square(orange.copy())\n",
    "    gauss_pyrmd = []\n",
    "\n",
    "    for i in range(n):\n",
    "        gauss_pyrmd.append((apple_copy, orange_copy))\n",
    "        print(apple_copy.shape)\n",
    "    #     cv2.imshow('apple'+str(i), apple_copy)\n",
    "    #     cv2.imshow('orange'+str(i), orange_copy)\n",
    "        apple_copy = cv2.pyrDown(apple_copy)\n",
    "        orange_copy = cv2.pyrDown(orange_copy)\n",
    "    apple_laplac, orange_laplac = [], []\n",
    "    for i in range(n-1):\n",
    "        apple_up = cv2.pyrUp(gauss_pyrmd[i+1][0])\n",
    "        apple_up = cv2.resize(apple_up, (gauss_pyrmd[i][0].shape[1],gauss_pyrmd[i][0].shape[0]), interpolation = cv2.INTER_AREA)\n",
    "        apple_laplac.append(gauss_pyrmd[i][0] - apple_up)\n",
    "        orange_up = cv2.pyrUp(gauss_pyrmd[i+1][1])\n",
    "        orange_up = cv2.resize(orange_up,(gauss_pyrmd[i][1].shape[1],gauss_pyrmd[i][1].shape[0]), interpolation = cv2.INTER_AREA)\n",
    "        orange_laplac.append(gauss_pyrmd[i][1] - orange_up)\n",
    "\n",
    "    # for i, j in zip(apple_laplac, orange_laplac):\n",
    "    #     cv2.imshow(str(i), i)\n",
    "    #     cv2.imshow(str(j), j)\n",
    "    mid = int(gauss_pyrmd[-1][0].shape[1]/2)\n",
    "    outcome = np.hstack((gauss_pyrmd[-1][0][:,:mid], gauss_pyrmd[-1][1][:,mid:]))\n",
    "\n",
    "    for i in range(n-2, -1, -1):\n",
    "        outcome = cv2.pyrUp(outcome)\n",
    "        outcome = cv2.resize(outcome, (gauss_pyrmd[i][0].shape[1],gauss_pyrmd[i][0].shape[0]), interpolation = cv2.INTER_AREA)\n",
    "        mid = int(outcome.shape[1]/2)\n",
    "        outcome = outcome + np.hstack((apple_laplac[i][:,:mid], orange_laplac[i][:,mid:]))\n",
    "    return outcome"
   ]
  },
  {
   "cell_type": "code",
   "execution_count": 6,
   "metadata": {},
   "outputs": [
    {
     "name": "stdout",
     "output_type": "stream",
     "text": [
      "(512, 512, 3)\n",
      "(256, 256, 3)\n",
      "(128, 128, 3)\n",
      "(64, 64, 3)\n",
      "(32, 32, 3)\n",
      "(16, 16, 3)\n"
     ]
    }
   ],
   "source": [
    "outcome = pyramid_blending(yjl, yy, 6)\n",
    "cv2.imshow('orange', outcome)\n",
    "key = cv2.waitKey()\n",
    "if key == 27:\n",
    "    cv2.destroyAllWindows()"
   ]
  }
 ],
 "metadata": {
  "kernelspec": {
   "display_name": "Python 3",
   "language": "python",
   "name": "python3"
  },
  "language_info": {
   "codemirror_mode": {
    "name": "ipython",
    "version": 3
   },
   "file_extension": ".py",
   "mimetype": "text/x-python",
   "name": "python",
   "nbconvert_exporter": "python",
   "pygments_lexer": "ipython3",
   "version": "3.6.4"
  }
 },
 "nbformat": 4,
 "nbformat_minor": 2
}
